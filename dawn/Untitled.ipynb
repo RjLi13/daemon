{
 "cells": [
  {
   "cell_type": "code",
   "execution_count": 4,
   "metadata": {
    "collapsed": true
   },
   "outputs": [],
   "source": [
    "def is_majority(arr, k):\n",
    "    threshold = len(arr) / 2 + 1\n",
    "    count = 0\n",
    "    for item in arr:\n",
    "        if k == item:\n",
    "            count += 1\n",
    "    return count >= threshold\n",
    "def majority(arr):\n",
    "    if len(arr) == 1:\n",
    "        return arr[0]\n",
    "    else:\n",
    "        left = majority(arr[:len(arr)/2])\n",
    "        right = majority(arr[len(arr)/2:])\n",
    "        if left is not None:\n",
    "            if is_majority(arr, left):\n",
    "                return left\n",
    "        if right is not None:\n",
    "            if is_majority(arr, right):\n",
    "                return right\n",
    "        return None"
   ]
  },
  {
   "cell_type": "code",
   "execution_count": 9,
   "metadata": {
    "collapsed": false
   },
   "outputs": [
    {
     "data": {
      "text/plain": [
       "1"
      ]
     },
     "execution_count": 9,
     "metadata": {},
     "output_type": "execute_result"
    }
   ],
   "source": [
    "majority([1,2,1,2,1,2,1,2,1,2,1,2,1,2,1,2,1])"
   ]
  },
  {
   "cell_type": "code",
   "execution_count": null,
   "metadata": {
    "collapsed": true
   },
   "outputs": [],
   "source": []
  }
 ],
 "metadata": {
  "kernelspec": {
   "display_name": "Python 2",
   "language": "python",
   "name": "python2"
  },
  "language_info": {
   "codemirror_mode": {
    "name": "ipython",
    "version": 2
   },
   "file_extension": ".py",
   "mimetype": "text/x-python",
   "name": "python",
   "nbconvert_exporter": "python",
   "pygments_lexer": "ipython2",
   "version": "2.7.9"
  }
 },
 "nbformat": 4,
 "nbformat_minor": 0
}
